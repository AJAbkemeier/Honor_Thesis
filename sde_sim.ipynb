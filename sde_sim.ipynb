{
 "cells": [
  {
   "cell_type": "code",
   "execution_count": 13,
   "id": "4217e40b",
   "metadata": {},
   "outputs": [
    {
     "name": "stdout",
     "output_type": "stream",
     "text": [
      "377.27757480231924\n"
     ]
    }
   ],
   "source": [
    "import math\n",
    "import numpy as np\n",
    "\n",
    "# specify parameters\n",
    "mu=0.043/252\n",
    "rho=-0.729\n",
    "kappa=3.25e-2-5.13e-05\n",
    "theta=(1.09e-4)*(3.25e-2)/kappa\n",
    "v0=((11.4e-2)/math.sqrt(252))**2\n",
    "xi=2.22e-3 \n",
    "\n",
    "\n",
    "delta_t=1\n",
    "\n",
    "# expiration\n",
    "T=22 # 22 trading days in a month, subject to change according to different expirations\n",
    "\n",
    "# vectors\n",
    "s=np.zeros(23)\n",
    "v=np.zeros(23)\n",
    "v[0]=v0\n",
    "s[0]=5005.57\n",
    "value_vec=np.zeros(100000)\n",
    "\n",
    "for i in range(100000):\n",
    "    for j in range(22):\n",
    "        z=np.random.normal(0,1)\n",
    "        u=np.random.normal(0,1)\n",
    "        zv=rho*z+math.sqrt(1-rho**2)*u\n",
    "        v[j+1]=v[j]+kappa*(theta-v[j])*delta_t+xi*math.sqrt(v[j])*math.sqrt(delta_t)*zv\n",
    "        while v[j+1]<0:\n",
    "            z=np.random.normal(0,1)\n",
    "            u=np.random.normal(0,1)\n",
    "            zv=rho*z+math.sqrt(1-rho**2)*u\n",
    "            v[j+1]=v[j]+kappa*(theta-v[j])*delta_t+xi*math.sqrt(v[j])*math.sqrt(delta_t)*zv\n",
    "        s[j+1]=s[j]+mu*s[j]*delta_t+math.sqrt(v[j])*delta_t*s[j]*z\n",
    "    value_vec[i]=max(s[T]-4650,0)\n",
    "    s=np.zeros(23)\n",
    "    v=np.zeros(23)\n",
    "    v[0]=v0\n",
    "    s[0]=5005.57\n",
    "    \n",
    "    \n",
    "print(np.mean(value_vec))"
   ]
  },
  {
   "cell_type": "code",
   "execution_count": 14,
   "id": "62fabd1f",
   "metadata": {},
   "outputs": [
    {
     "data": {
      "text/plain": [
       "375.928082776478"
      ]
     },
     "execution_count": 14,
     "metadata": {},
     "output_type": "execute_result"
    }
   ],
   "source": [
    "# Pricing formula based on risk-neutral measure\n",
    "# r=...\n",
    "# d=trading days to maturity\n",
    "# p=price from above\n",
    "# math.exp(-r*d/252)*p"
   ]
  }
 ],
 "metadata": {
  "kernelspec": {
   "display_name": "Python 3 (ipykernel)",
   "language": "python",
   "name": "python3"
  },
  "language_info": {
   "codemirror_mode": {
    "name": "ipython",
    "version": 3
   },
   "file_extension": ".py",
   "mimetype": "text/x-python",
   "name": "python",
   "nbconvert_exporter": "python",
   "pygments_lexer": "ipython3",
   "version": "3.9.7"
  }
 },
 "nbformat": 4,
 "nbformat_minor": 5
}
